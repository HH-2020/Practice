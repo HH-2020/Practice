{
 "cells": [
  {
   "cell_type": "code",
   "execution_count": null,
   "id": "divine-detector",
   "metadata": {
    "executionInfo": {
     "elapsed": 664,
     "status": "ok",
     "timestamp": 1615312408295,
     "user": {
      "displayName": "Ergou Zhang",
      "photoUrl": "",
      "userId": "05356310893136806714"
     },
     "user_tz": -540
    },
    "id": "divine-detector"
   },
   "outputs": [],
   "source": [
    "import cv2\n",
    "import numpy as np\n",
    "import matplotlib.pyplot as plt\n",
    "import os\n",
    "from PIL import Image"
   ]
  },
  {
   "cell_type": "code",
   "execution_count": null,
   "id": "international-center",
   "metadata": {
    "executionInfo": {
     "elapsed": 898,
     "status": "ok",
     "timestamp": 1615312408539,
     "user": {
      "displayName": "Ergou Zhang",
      "photoUrl": "",
      "userId": "05356310893136806714"
     },
     "user_tz": -540
    },
    "id": "international-center"
   },
   "outputs": [],
   "source": [
    "path = './data'\n",
    "trainInPath = path + '/train'\n",
    "trainOutPath = path + '/train_cleaned'\n",
    "testPath = path + '/test_dirty'\n",
    "testOutPath = path + '/test_clean'\n",
    "savePath = path + '/AEsave'"
   ]
  },
  {
   "cell_type": "code",
   "execution_count": null,
   "id": "developmental-authority",
   "metadata": {
    "executionInfo": {
     "elapsed": 895,
     "status": "ok",
     "timestamp": 1615312408540,
     "user": {
      "displayName": "Ergou Zhang",
      "photoUrl": "",
      "userId": "05356310893136806714"
     },
     "user_tz": -540
    },
    "id": "developmental-authority"
   },
   "outputs": [],
   "source": [
    "def loadImg(path):\n",
    "    data = []\n",
    "    for title in sorted(os.listdir(path)):\n",
    "        img = cv2.imread(path + '/' + title)\n",
    "        #zero centre\n",
    "        img = np.asarray(img, dtype = np.float32)\n",
    "        img = cv2.resize(img, (540, 420))\n",
    "        img = img / 255.0\n",
    "        data.append(img)\n",
    "    return data\n",
    "\n",
    "def saveImg(path, data):\n",
    "    for i,img in enumerate(data):\n",
    "        img = np.asarray(img * 255.0, dtype = np.uint8)\n",
    "        Image.fromarray(img).save(path+'/'+str(i)+'.png')"
   ]
  },
  {
   "cell_type": "code",
   "execution_count": null,
   "id": "divine-delight",
   "metadata": {
    "executionInfo": {
     "elapsed": 3385,
     "status": "ok",
     "timestamp": 1615312411033,
     "user": {
      "displayName": "Ergou Zhang",
      "photoUrl": "",
      "userId": "05356310893136806714"
     },
     "user_tz": -540
    },
    "id": "divine-delight"
   },
   "outputs": [],
   "source": [
    "train = np.einsum('klij->kjli',np.asarray(loadImg(trainInPath)))\n",
    "train_cleaned = np.einsum('klij->kjli',np.asarray(loadImg(trainOutPath)))\n",
    "#test = loadImg(testPath)\n",
    "#test_cleanned = loadImg(testOutPath)"
   ]
  },
  {
   "cell_type": "code",
   "execution_count": null,
   "id": "XyC2o9f_WYvK",
   "metadata": {
    "colab": {
     "base_uri": "https://localhost:8080/"
    },
    "executionInfo": {
     "elapsed": 3383,
     "status": "ok",
     "timestamp": 1615312411034,
     "user": {
      "displayName": "Ergou Zhang",
      "photoUrl": "",
      "userId": "05356310893136806714"
     },
     "user_tz": -540
    },
    "id": "XyC2o9f_WYvK",
    "outputId": "3448bb70-b95c-4be7-b2fa-6c636f5b8534"
   },
   "outputs": [],
   "source": [
    "train.shape"
   ]
  },
  {
   "cell_type": "code",
   "execution_count": null,
   "id": "nonprofit-worker",
   "metadata": {
    "executionInfo": {
     "elapsed": 3732,
     "status": "ok",
     "timestamp": 1615312411386,
     "user": {
      "displayName": "Ergou Zhang",
      "photoUrl": "",
      "userId": "05356310893136806714"
     },
     "user_tz": -540
    },
    "id": "nonprofit-worker"
   },
   "outputs": [],
   "source": [
    "import torch\n",
    "import torch.nn as nn\n",
    "import torchvision.transforms as transforms\n",
    "import torch.nn.functional as F\n",
    "from torch.utils.data import DataLoader, Dataset"
   ]
  },
  {
   "cell_type": "code",
   "execution_count": null,
   "id": "bDpYAhfgb0au",
   "metadata": {
    "executionInfo": {
     "elapsed": 3730,
     "status": "ok",
     "timestamp": 1615312411386,
     "user": {
      "displayName": "Ergou Zhang",
      "photoUrl": "",
      "userId": "05356310893136806714"
     },
     "user_tz": -540
    },
    "id": "bDpYAhfgb0au"
   },
   "outputs": [],
   "source": [
    "device = torch.device(\"cuda\" if torch.cuda.is_available() else \"cpu\")"
   ]
  },
  {
   "cell_type": "code",
   "execution_count": null,
   "id": "pY1brZ4xb0av",
   "metadata": {
    "executionInfo": {
     "elapsed": 6971,
     "status": "ok",
     "timestamp": 1615312414629,
     "user": {
      "displayName": "Ergou Zhang",
      "photoUrl": "",
      "userId": "05356310893136806714"
     },
     "user_tz": -540
    },
    "id": "pY1brZ4xb0av"
   },
   "outputs": [],
   "source": [
    "class autoencoder(nn.Module):\n",
    "    def __init__(self):\n",
    "        super(autoencoder, self).__init__()\n",
    "        # 540 x 420\n",
    "        self.conv1 = nn.Conv2d(\n",
    "                in_channels = 3,\n",
    "                out_channels = 64,\n",
    "                kernel_size = 3,\n",
    "                stride = 3,\n",
    "                padding = 1\n",
    "        )\n",
    "        self.batch1 = nn.BatchNorm2d(64)\n",
    "        self.relu1 = nn.ReLU(True)\n",
    "\n",
    "        self.maxpool1 = nn.MaxPool2d(\n",
    "                kernel_size = 2,\n",
    "                stride = 2,\n",
    "                return_indices=True\n",
    "        )\n",
    "        self.conv2 = nn.Conv2d(\n",
    "                in_channels = 64,\n",
    "                out_channels = 128,\n",
    "                kernel_size = 3,\n",
    "                stride = 2,\n",
    "                padding = 1\n",
    "        )\n",
    "        self.batch2 = nn.BatchNorm2d(128)\n",
    "        self.relu2 = nn.ReLU(True)\n",
    "\n",
    "        self.maxpool2 = nn.MaxPool2d(\n",
    "                kernel_size = 2,\n",
    "                stride = 1,\n",
    "                return_indices=True\n",
    "        )\n",
    "\n",
    "                        \n",
    "        self.unpool1 = nn.MaxUnpool2d(\n",
    "                kernel_size = 2,\n",
    "                stride = 1,\n",
    "        )\n",
    "        self.convt1 = nn.ConvTranspose2d(\n",
    "                in_channels = 128,\n",
    "                out_channels = 64,\n",
    "                kernel_size = 4,\n",
    "                stride = 2,\n",
    "                padding = 1\n",
    "         )\n",
    "        self.batch3 = nn.BatchNorm2d(64)\n",
    "        self.relu3 = nn.ReLU(True)\n",
    "        self.unpool2 = nn.MaxUnpool2d(\n",
    "                kernel_size = 2,\n",
    "                stride = 2,\n",
    "        )\n",
    "        self.convt2 = nn.ConvTranspose2d(\n",
    "                in_channels = 64,\n",
    "                out_channels = 3,\n",
    "                kernel_size = 5,\n",
    "                stride = 3,\n",
    "                padding = 1\n",
    "        )\n",
    "        self.batch4 = nn.BatchNorm2d(3)\n",
    "        self.tanh = nn.Tanh()\n",
    "        self.relu4 = nn.ReLU(True)\n",
    "\n",
    "    def forward(self, x):\n",
    "        x = self.conv1(x)\n",
    "        x = self.batch1(x)\n",
    "        x = self.relu1(x)\n",
    "        x, INDICES_1 = self.maxpool1(x)\n",
    "        x = self.conv2(x)\n",
    "        x = self.batch2(x)\n",
    "        x = self.relu2(x)\n",
    "        x, INDICES_2 = self.maxpool2(x)\n",
    "        #encoded = x\n",
    "        x = self.unpool1(x,INDICES_2)\n",
    "        x = self.convt1(x)\n",
    "        x = self.batch3(x)\n",
    "        x = self.relu3(x)\n",
    "        x = self.unpool2(x,INDICES_1)\n",
    "        x = self.convt2(x)\n",
    "        x = self.batch4(x)\n",
    "        x = self.tanh(x)\n",
    "        return x\n",
    "        \n",
    "#initialize network\n",
    "model = autoencoder().to(device)\n",
    "\n",
    "#hyperparameters\n",
    "learning_rate = 1e-2\n",
    "num_epochs = 300\n",
    "batch_size = 144\n",
    "#loss and optimizer\n",
    "criterion = nn.MSELoss()\n",
    "optimizer = torch.optim.Adam(model.parameters(), lr = learning_rate, weight_decay = 1e-5)\n",
    "total_loss = 0\n",
    "\n"
   ]
  },
  {
   "cell_type": "code",
   "execution_count": null,
   "id": "JmXdow7sVoNf",
   "metadata": {
    "executionInfo": {
     "elapsed": 6970,
     "status": "ok",
     "timestamp": 1615312414630,
     "user": {
      "displayName": "Ergou Zhang",
      "photoUrl": "",
      "userId": "05356310893136806714"
     },
     "user_tz": -540
    },
    "id": "JmXdow7sVoNf"
   },
   "outputs": [],
   "source": [
    "#load data\n",
    "class denosiDataset(Dataset):\n",
    "  def __init__(self):\n",
    "    self.x_data = torch.from_numpy(train)\n",
    "    self.y_data = torch.from_numpy(train_cleaned)\n",
    "    self.n_samples = len(train)\n",
    "\n",
    "  def __getitem__(self,index):\n",
    "    return self.x_data[index], self.y_data[index]\n",
    "\n",
    "  def __len__(self):\n",
    "    return self.n_samples\n",
    "\n",
    "dataset = denosiDataset()\n"
   ]
  },
  {
   "cell_type": "code",
   "execution_count": null,
   "id": "rGpH2Xg4Vo46",
   "metadata": {
    "executionInfo": {
     "elapsed": 6970,
     "status": "ok",
     "timestamp": 1615312414632,
     "user": {
      "displayName": "Ergou Zhang",
      "photoUrl": "",
      "userId": "05356310893136806714"
     },
     "user_tz": -540
    },
    "id": "rGpH2Xg4Vo46"
   },
   "outputs": [],
   "source": [
    "#load data\n",
    "train_loader = DataLoader(dataset = dataset, batch_size = batch_size, shuffle = True)\n"
   ]
  },
  {
   "cell_type": "code",
   "execution_count": null,
   "id": "L6R-Egve3p7l",
   "metadata": {
    "colab": {
     "base_uri": "https://localhost:8080/"
    },
    "id": "L6R-Egve3p7l",
    "outputId": "6ea6fefa-cf38-4877-8f3e-618785b88c54"
   },
   "outputs": [],
   "source": [
    "#train network\n",
    "lossList = []\n",
    "for epoch in range(num_epochs):\n",
    "    for batch_idx, (data,target) in enumerate(train_loader):\n",
    "        data = data.to(device = device)\n",
    "        targets = target.to(device = device)\n",
    "        \n",
    "        output = model(data)\n",
    "        loss = criterion(output,targets)\n",
    "        \n",
    "        optimizer.zero_grad()\n",
    "        loss.backward()\n",
    "        \n",
    "        optimizer.step()\n",
    "        \n",
    "    total_loss += loss.data\n",
    "    tmp = total_loss+0\n",
    "    lossList.append(tmp)\n",
    "    #print(\"epoch [{}/{}], loss:{:.4f}\".format(epoch+1,num_epochs,total_loss))\n",
    "    if epoch%10 == 0:\n",
    "        print(\"epoch [{}/{}], loss:{:.4f}\".format(epoch+1,num_epochs,total_loss))\n",
    "        img = np.einsum('klij->kijl',output.cpu().data)\n",
    "        saveImg(savePath,img)\n",
    "        \n",
    "        \n",
    "torch.save(model.state_dict,'./autoencoder.pth')"
   ]
  },
  {
   "cell_type": "code",
   "execution_count": null,
   "id": "5GyPXist3p7m",
   "metadata": {
    "id": "5GyPXist3p7m"
   },
   "outputs": [],
   "source": [
    "print(device)\n",
    "plt.plot(lossList)"
   ]
  },
  {
   "cell_type": "code",
   "execution_count": null,
   "id": "OvzaTQnx3p7m",
   "metadata": {
    "id": "OvzaTQnx3p7m"
   },
   "outputs": [],
   "source": []
  }
 ],
 "metadata": {
  "accelerator": "GPU",
  "colab": {
   "collapsed_sections": [],
   "name": "AutoEncoder.ipynb",
   "provenance": []
  },
  "kernelspec": {
   "display_name": "Python 3",
   "language": "python",
   "name": "python3"
  },
  "language_info": {
   "codemirror_mode": {
    "name": "ipython",
    "version": 3
   },
   "file_extension": ".py",
   "mimetype": "text/x-python",
   "name": "python",
   "nbconvert_exporter": "python",
   "pygments_lexer": "ipython3",
   "version": "3.9.1"
  }
 },
 "nbformat": 4,
 "nbformat_minor": 5
}
